{
 "cells": [
  {
   "cell_type": "code",
   "execution_count": 1,
   "id": "f5e1e828-af93-4e52-a848-0dfcd40f8508",
   "metadata": {},
   "outputs": [],
   "source": [
    "import numpy as np\n",
    "import pandas as pd\n",
    "\n",
    "import matplotlib.pyplot as plt\n",
    "import seaborn as sns\n",
    "\n",
    "\n",
    "import warnings\n",
    "warnings.filterwarnings('ignore')"
   ]
  },
  {
   "cell_type": "code",
   "execution_count": 2,
   "id": "245e714d-8578-44f8-a826-50020f50f226",
   "metadata": {},
   "outputs": [
    {
     "ename": "SyntaxError",
     "evalue": "EOL while scanning string literal (Temp/ipykernel_23664/2309959120.py, line 2)",
     "output_type": "error",
     "traceback": [
      "\u001b[1;36m  File \u001b[1;32m\"C:\\Users\\alesy\\AppData\\Local\\Temp/ipykernel_23664/2309959120.py\"\u001b[1;36m, line \u001b[1;32m2\u001b[0m\n\u001b[1;33m    df.rename(index=str, columns={'Annual Income (k$)': 'Income','\u001b[0m\n\u001b[1;37m                                                                  ^\u001b[0m\n\u001b[1;31mSyntaxError\u001b[0m\u001b[1;31m:\u001b[0m EOL while scanning string literal\n"
     ]
    }
   ],
   "source": [
    "df = pd.read_csv(\"Iris.csv\")\n",
    "df.rename(index=str, columns={'Annual Income (k$)': 'Income','\n",
    "                              'Spending Score (1-100)': 'Score'}, inplace=True)\n",
    "df.head()"
   ]
  },
  {
   "cell_type": "code",
   "execution_count": null,
   "id": "8ec47468-7b8e-4d47-b2b7-e635ce346d6e",
   "metadata": {},
   "outputs": [],
   "source": [
    "X = df.drop(['Id', 'Species'], axis=1)"
   ]
  },
  {
   "cell_type": "code",
   "execution_count": null,
   "id": "d66c9beb-2290-45ae-b405-6856595263b7",
   "metadata": {},
   "outputs": [],
   "source": [
    "from sklearn.cluster import KMeans\n",
    "\n",
    "clusters = []\n",
    "\n",
    "for i in range(1, 11):\n",
    "    km = KMeans(n_clusters=i).fit(X)\n",
    "    clusters.append(km.inertia_)\n",
    "    \n",
    "fig, ax = plt.subplots(figsize=(12, 8))\n",
    "sns.lineplot(x=list(range(1, 11)), y=clusters, ax=ax)\n",
    "ax.set_title('Searching for Elbow')\n",
    "ax.set_xlabel('Clusters')\n",
    "ax.set_ylabel('Inertia')\n",
    "\n",
    "plt.show()"
   ]
  },
  {
   "cell_type": "code",
   "execution_count": null,
   "id": "0ac0fd0f-142d-4c14-97b7-ffac3a8c32fe",
   "metadata": {},
   "outputs": [],
   "source": [
    "from sklearn.metrics import silhouette_samples, silhouette_score\n",
    "clusters = []\n",
    "\n",
    "for i in range(2, 11):\n",
    "    cluster_labels = KMeans(n_clusters=i).fit_predict(X)\n",
    "    silhouette_avg = silhouette_score(X, cluster_labels)\n",
    "    print(\n",
    "        \"For n_clusters =\",\n",
    "        i,\n",
    "        \"The average silhouette_score is :\",\n",
    "        silhouette_avg,\n",
    "\n",
    "    )"
   ]
  },
  {
   "cell_type": "code",
   "execution_count": null,
   "id": "034ab15e-c3ed-408c-8fe6-ccbef7bf3bd4",
   "metadata": {},
   "outputs": [],
   "source": [
    "km2 = KMeans(n_clusters=2).fit(X)\n",
    "\n",
    "X['Labels'] = km2.labels_\n",
    "plt.figure(figsize=(12, 8))\n",
    "sns.scatterplot(X['SepalWidthCm'], X['PetalLengthCm'], hue=X['Labels'], \n",
    "                palette=sns.color_palette('hls', 2))\n",
    "plt.title('KMeans with 2 Clusters')\n",
    "\n",
    "km3 = KMeans(n_clusters=3).fit(X)\n",
    "\n",
    "X['Labels'] = km3.labels_\n",
    "plt.figure(figsize=(12, 8))\n",
    "sns.scatterplot(X['SepalWidthCm'], X['PetalLengthCm'], hue=X['Labels'], \n",
    "                palette=sns.color_palette('hls', 3))\n",
    "plt.title('KMeans with 3 Clusters')\n",
    "\n",
    "km4 = KMeans(n_clusters=4).fit(X)\n",
    "\n",
    "X['Labels'] = km4.labels_\n",
    "plt.figure(figsize=(12, 8))\n",
    "sns.scatterplot(X['SepalWidthCm'], X['PetalLengthCm'], hue=X['Labels'], \n",
    "                palette=sns.color_palette('hls', 4))\n",
    "plt.title('KMeans with 4 Clusters')\n",
    "\n",
    "\n",
    "km5 = KMeans(n_clusters=5).fit(X)\n",
    "\n",
    "X['Labels'] = km5.labels_\n",
    "plt.figure(figsize=(12, 8))\n",
    "sns.scatterplot(X['SepalWidthCm'], X['PetalLengthCm'], hue=X['Labels'], \n",
    "                palette=sns.color_palette('hls', 5))\n",
    "plt.title('KMeans with 5 Clusters')\n",
    "\n",
    "plt.show()"
   ]
  },
  {
   "cell_type": "code",
   "execution_count": null,
   "id": "63cc4041-827d-4d95-bd18-f082c56f7551",
   "metadata": {},
   "outputs": [],
   "source": [
    "from scipy.cluster import hierarchy \n",
    "from scipy.spatial import distance_matrix\n",
    "\n",
    "dist = distance_matrix(X, X)\n",
    "Z = hierarchy.linkage(dist, 'complete')\n",
    "\n",
    "plt.figure(figsize=(18, 8))\n",
    "dendro = hierarchy.dendrogram(Z)"
   ]
  },
  {
   "cell_type": "code",
   "execution_count": null,
   "id": "3b722064-83ed-4391-9e7e-9a29601749c3",
   "metadata": {},
   "outputs": [],
   "source": [
    "Z = hierarchy.linkage(dist, 'average')\n",
    "plt.figure(figsize=(18, 8))\n",
    "dendro = hierarchy.dendrogram(Z)\n"
   ]
  },
  {
   "cell_type": "code",
   "execution_count": null,
   "id": "37c8eab7-7939-446c-977f-c80cc2c8621e",
   "metadata": {},
   "outputs": [],
   "source": [
    "from sklearn.cluster import DBSCAN, AgglomerativeClustering\n",
    "\n",
    "fig = plt.figure(figsize=(20,15))\n",
    "\n",
    "##### KMeans #####\n",
    "ax = fig.add_subplot(221)\n",
    "\n",
    "km3 = KMeans(n_clusters=3).fit(X)\n",
    "X['Labels'] = km3.labels_\n",
    "sns.scatterplot(X['SepalWidthCm'], X['PetalLengthCm'], hue=X['Labels'], style=X['Labels'],\n",
    "                palette=sns.color_palette('hls', 3), s=60, ax=ax)\n",
    "ax.set_title('KMeans with 3 Clusters')\n",
    "\n",
    "\n",
    "##### Agglomerative Clustering #####\n",
    "ax = fig.add_subplot(222)\n",
    "\n",
    "agglom = AgglomerativeClustering(n_clusters=3, linkage='average').fit(X)\n",
    "X['Labels'] = agglom.labels_\n",
    "sns.scatterplot(X['SepalWidthCm'], X['PetalLengthCm'], hue=X['Labels'], style=X['Labels'],\n",
    "                palette=sns.color_palette('hls', 3), s=60, ax=ax)\n",
    "ax.set_title('Agglomerative with 3 Clusters')\n",
    "\n",
    "\n",
    "plt.tight_layout()\n",
    "plt.show()"
   ]
  },
  {
   "cell_type": "code",
   "execution_count": null,
   "id": "b231c40b-f33b-4ddc-b376-9a064ff1e1a2",
   "metadata": {},
   "outputs": [],
   "source": []
  }
 ],
 "metadata": {
  "kernelspec": {
   "display_name": "Python 3 (ipykernel)",
   "language": "python",
   "name": "python3"
  },
  "language_info": {
   "codemirror_mode": {
    "name": "ipython",
    "version": 3
   },
   "file_extension": ".py",
   "mimetype": "text/x-python",
   "name": "python",
   "nbconvert_exporter": "python",
   "pygments_lexer": "ipython3",
   "version": "3.9.7"
  }
 },
 "nbformat": 4,
 "nbformat_minor": 5
}
